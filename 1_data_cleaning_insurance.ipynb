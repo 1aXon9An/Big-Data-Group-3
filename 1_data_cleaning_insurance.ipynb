{
 "cells": [
  {
   "cell_type": "markdown",
   "id": "b39fc51c",
   "metadata": {},
   "source": [
    "# Group 3 - Insurance Claim Data Analysis"
   ]
  },
  {
   "cell_type": "markdown",
   "id": "6524bb1c",
   "metadata": {},
   "source": [
    "## I. Introduction"
   ]
  },
  {
   "cell_type": "markdown",
   "id": "002061af",
   "metadata": {},
   "source": [
    "## II. Exploratory Data Analysis - EDA"
   ]
  },
  {
   "cell_type": "code",
   "execution_count": null,
   "id": "bfde92af",
   "metadata": {},
   "outputs": [],
   "source": [
    "import pandas "
   ]
  },
  {
   "cell_type": "markdown",
   "id": "50b94124",
   "metadata": {},
   "source": [
    "### 2.1 Data cleaning"
   ]
  },
  {
   "cell_type": "markdown",
   "id": "80ad101a",
   "metadata": {},
   "source": [
    "### 2.2 Descriptive Statistic"
   ]
  },
  {
   "cell_type": "markdown",
   "id": "0e0383b5",
   "metadata": {},
   "source": []
  }
 ],
 "metadata": {
  "kernelspec": {
   "display_name": "base",
   "language": "python",
   "name": "python3"
  },
  "language_info": {
   "name": "python",
   "version": "3.12.4"
  }
 },
 "nbformat": 4,
 "nbformat_minor": 5
}
